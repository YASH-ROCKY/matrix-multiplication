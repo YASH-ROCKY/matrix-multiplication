{
 "cells": [
  {
   "cell_type": "code",
   "execution_count": 1,
   "metadata": {},
   "outputs": [
    {
     "name": "stdout",
     "output_type": "stream",
     "text": [
      "hi\n"
     ]
    }
   ],
   "source": [
    "print(\"hi\")\n"
   ]
  },
  {
   "cell_type": "code",
   "execution_count": null,
   "metadata": {},
   "outputs": [],
   "source": [
    "A = [[0,0,0],[0,0,0],[0,0,0]]\n",
    "B = [[0,0,0],[0,0,0],[0,0,0]]\n",
    "C = [[0,0,0],[0,0,0],[0,0,0]]\n",
    "def inputss(M):\n",
    "    print(\"enter matrix elements\")\n",
    "    for j in range(3):\n",
    "         for k in range(3):\n",
    "             M[j][k] = input()\n",
    "    \n",
    "def multiplier():\n",
    "    x = 0\n",
    "    for j in range(3):\n",
    "        for i in range(3):\n",
    "            for k in range(3):\n",
    "                q = A[j][k]\n",
    "                w = B[k][i]\n",
    "                x = x + q*w\n",
    "            C[j][i] = x    \n",
    "def printer(P):\n",
    "    for j in range(3):\n",
    "        for i in range(3):\n",
    "            print(\" \",P[j][i])\n",
    "        print()\n",
    "inputss(A)\n",
    "inputss(B)\n",
    "print(A)\n",
    "print(B)\n",
    "\n",
    "\n",
    "\n",
    "\n",
    "    "
   ]
  },
  {
   "cell_type": "code",
   "execution_count": 2,
   "metadata": {},
   "outputs": [
    {
     "name": "stdout",
     "output_type": "stream",
     "text": [
      "enter matrix elements\n",
      "1\n",
      "2\n",
      "3\n",
      "4\n",
      "5\n",
      "6\n",
      "7\n",
      "8\n",
      "9\n",
      "enter matrix elements\n",
      "9\n",
      "8\n",
      "7\n",
      "6\n",
      "5\n",
      "4\n",
      "3\n",
      "2\n",
      "1\n",
      "[['1', '2', '3'], ['4', '5', '6'], ['7', '8', '9']]\n",
      "[['9', '8', '7'], ['6', '5', '4'], ['3', '2', '1']]\n"
     ]
    }
   ],
   "source": [
    "A = [[0,0,0],[0,0,0],[0,0,0]]\n",
    "B = [[0,0,0],[0,0,0],[0,0,0]]\n",
    "C = [[0,0,0],[0,0,0],[0,0,0]]\n",
    "def inputss(M):\n",
    "    print(\"enter matrix elements\")\n",
    "    for j in range(3):\n",
    "         for k in range(3):\n",
    "             M[j][k] = input()\n",
    "    \n",
    "def multiplier():\n",
    "    x = 0\n",
    "    for j in range(3):\n",
    "        for i in range(3):\n",
    "            for k in range(3):\n",
    "                q = A[j][k]\n",
    "                w = B[k][i]\n",
    "                x = x + q*w\n",
    "            C[j][i] = x    \n",
    "def printer(P):\n",
    "    for j in range(3):\n",
    "        for i in range(3):\n",
    "            print(\" \",P[j][i])\n",
    "        print()\n",
    "inputss(A)\n",
    "inputss(B)\n",
    "print(A)\n",
    "print(B)\n",
    "\n",
    "\n",
    "\n"
   ]
  },
  {
   "cell_type": "code",
   "execution_count": null,
   "metadata": {},
   "outputs": [],
   "source": []
  }
 ],
 "metadata": {
  "kernelspec": {
   "display_name": "Python 3",
   "language": "python",
   "name": "python3"
  },
  "language_info": {
   "codemirror_mode": {
    "name": "ipython",
    "version": 3
   },
   "file_extension": ".py",
   "mimetype": "text/x-python",
   "name": "python",
   "nbconvert_exporter": "python",
   "pygments_lexer": "ipython3",
   "version": "3.7.4"
  }
 },
 "nbformat": 4,
 "nbformat_minor": 2
}